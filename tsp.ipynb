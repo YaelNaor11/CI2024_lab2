{
 "cells": [
  {
   "cell_type": "markdown",
   "metadata": {
    "vscode": {
     "languageId": "plaintext"
    }
   },
   "source": [
    "Copyright **`(c)`** 2024 Giovanni Squillero `<giovanni.squillero@polito.it>`  \n",
    "[`https://github.com/squillero/computational-intelligence`](https://github.com/squillero/computational-intelligence)  \n",
    "Free under certain conditions — see the [`license`](https://github.com/squillero/computational-intelligence/blob/master/LICENSE.md) for details.  "
   ]
  },
  {
   "cell_type": "code",
   "execution_count": 13,
   "metadata": {},
   "outputs": [],
   "source": [
    "import logging\n",
    "from itertools import combinations\n",
    "import pandas as pd\n",
    "import numpy as np\n",
    "import geopy.distance\n",
    "from dataclasses import dataclass\n",
    "from icecream import ic\n",
    "import functools\n",
    "\n",
    "logging.basicConfig(level=logging.DEBUG)"
   ]
  },
  {
   "cell_type": "markdown",
   "metadata": {},
   "source": [
    "## Lab2 - TSP\n",
    "\n",
    "https://www.wolframcloud.com/obj/giovanni.squillero/Published/Lab2-tsp.nb"
   ]
  },
  {
   "cell_type": "code",
   "execution_count": 355,
   "metadata": {},
   "outputs": [
    {
     "data": {
      "text/html": [
       "<div>\n",
       "<style scoped>\n",
       "    .dataframe tbody tr th:only-of-type {\n",
       "        vertical-align: middle;\n",
       "    }\n",
       "\n",
       "    .dataframe tbody tr th {\n",
       "        vertical-align: top;\n",
       "    }\n",
       "\n",
       "    .dataframe thead th {\n",
       "        text-align: right;\n",
       "    }\n",
       "</style>\n",
       "<table border=\"1\" class=\"dataframe\">\n",
       "  <thead>\n",
       "    <tr style=\"text-align: right;\">\n",
       "      <th></th>\n",
       "      <th>name</th>\n",
       "      <th>lat</th>\n",
       "      <th>lon</th>\n",
       "    </tr>\n",
       "  </thead>\n",
       "  <tbody>\n",
       "    <tr>\n",
       "      <th>0</th>\n",
       "      <td>Isangel</td>\n",
       "      <td>-19.53</td>\n",
       "      <td>169.28</td>\n",
       "    </tr>\n",
       "    <tr>\n",
       "      <th>1</th>\n",
       "      <td>Lakatoro</td>\n",
       "      <td>-16.09</td>\n",
       "      <td>167.40</td>\n",
       "    </tr>\n",
       "    <tr>\n",
       "      <th>2</th>\n",
       "      <td>Longana</td>\n",
       "      <td>-15.30</td>\n",
       "      <td>168.00</td>\n",
       "    </tr>\n",
       "    <tr>\n",
       "      <th>3</th>\n",
       "      <td>Luganville</td>\n",
       "      <td>-15.51</td>\n",
       "      <td>167.15</td>\n",
       "    </tr>\n",
       "    <tr>\n",
       "      <th>4</th>\n",
       "      <td>Norsup</td>\n",
       "      <td>-16.07</td>\n",
       "      <td>167.39</td>\n",
       "    </tr>\n",
       "  </tbody>\n",
       "</table>\n",
       "</div>"
      ],
      "text/plain": [
       "         name    lat     lon\n",
       "0     Isangel -19.53  169.28\n",
       "1    Lakatoro -16.09  167.40\n",
       "2     Longana -15.30  168.00\n",
       "3  Luganville -15.51  167.15\n",
       "4      Norsup -16.07  167.39"
      ]
     },
     "execution_count": 355,
     "metadata": {},
     "output_type": "execute_result"
    }
   ],
   "source": [
    "vanuatu_cities = pd.read_csv('vanuatu.csv', header=None, names=['name', 'lat', 'lon'])\n",
    "vanuatu_cities.head()\n"
   ]
  },
  {
   "cell_type": "code",
   "execution_count": 356,
   "metadata": {},
   "outputs": [],
   "source": [
    "def distance_matrix(cities):\n",
    "    dist_matrix = np.zeros((len(cities), len(cities)))\n",
    "    for c1, c2 in combinations(cities.itertuples(), 2):\n",
    "        dist_matrix[c1.Index, c2.Index] = dist_matrix[c2.Index, c1.Index] = geopy.distance.geodesic(\n",
    "        (c1.lat, c1.lon), (c2.lat, c2.lon)\n",
    "    ).km\n",
    "    return dist_matrix\n",
    "\n"
   ]
  },
  {
   "cell_type": "markdown",
   "metadata": {},
   "source": [
    "Greedy TSP Solution Using Nearest Neighbor Heuristic"
   ]
  },
  {
   "cell_type": "code",
   "execution_count": 387,
   "metadata": {},
   "outputs": [
    {
     "name": "stderr",
     "output_type": "stream",
     "text": [
      "DEBUG:root:step: Isangel -> Vila (223.00km)\n",
      "DEBUG:root:step: Vila -> Lakatoro (206.74km)\n",
      "DEBUG:root:step: Lakatoro -> Norsup (2.46km)\n",
      "DEBUG:root:step: Norsup -> Luganville (67.09km)\n",
      "DEBUG:root:step: Luganville -> Port Olry (52.02km)\n",
      "DEBUG:root:step: Port Olry -> Longana (105.77km)\n",
      "DEBUG:root:step: Longana -> Sola (165.49km)\n",
      "DEBUG:root:step: Sola -> Isangel (652.96km)\n",
      "INFO:root:result of TSP Solution Using Nearest Neighbor: Found a path of 8 steps, total length 1475.53km\n"
     ]
    }
   ],
   "source": [
    "\n",
    "def TSP_nearest_neighbor(cities ,debug = False):\n",
    "\n",
    "    visited = np.full(len(cities), False) # initialized arrey with false\n",
    "    dist_matrix = distance_matrix(cities)\n",
    "    dist_copy = dist_matrix.copy()\n",
    "    city = 0\n",
    "    visited[city] = True\n",
    "    tsp = []\n",
    "    tsp.append(int(city))\n",
    "    while not np.all(visited): # until all the cities visited\n",
    "        dist_copy[:, city] = np.inf # change the distance os the city to infinity so it won't picked again\n",
    "        closest = np.argmin(dist_copy[city]) #the index of the closest city\n",
    "        if debug == True:\n",
    "            logging.debug(f\"step: {cities.at[city,'name']} -> {cities.at[closest,'name']} ({dist_matrix[city,closest]:.2f}km)\")\n",
    "        \n",
    "        visited[closest] = True\n",
    "        city = closest\n",
    "        tsp.append(int(city))\n",
    "    if debug == True:\n",
    "        logging.debug(f\"step: {cities.at[tsp[-1],'name']} -> {cities.at[tsp[0],'name']} ({dist_matrix[tsp[-1],tsp[0]]:.2f}km)\")\n",
    "    \n",
    "    tsp.append(tsp[0])\n",
    "\n",
    "    tot_cost = 0\n",
    "    for c1, c2 in zip(tsp, tsp[1:]):\n",
    "        tot_cost += dist_matrix[c1, c2]\n",
    "    logging.info(f\"result of TSP Solution Using Nearest Neighbor: Found a path of {len(tsp)-1} steps, total length {tot_cost:.2f}km\")\n",
    "\n",
    "TSP_nearest_neighbor(vanuatu_cities, True)"
   ]
  },
  {
   "cell_type": "markdown",
   "metadata": {},
   "source": [
    "Helper Functions"
   ]
  },
  {
   "cell_type": "code",
   "execution_count": 358,
   "metadata": {},
   "outputs": [],
   "source": [
    "def is_valid(c1,c2,degrees,dict_segments):\n",
    "    if degrees[c1] < 2 and degrees[c2] < 2 : #check no more then 2 degrees\n",
    "        if dict_segments[c1] != dict_segments[c2]:\n",
    "            return True\n",
    "    return False\n",
    "\n",
    "\n",
    "def union_segments(c1, c2, dict_segments, degrees): #union two segments to one\n",
    "    leader1 = dict_segments[c1]\n",
    "    leader2 = dict_segments[c2]\n",
    "    degrees[c1] += 1\n",
    "    degrees[c2] += 1\n",
    "    # If the leaders are different, merge the segments\n",
    "    if leader1 != leader2:\n",
    "        # Update all cities that have leader1 as their leader to leader2\n",
    "        for city in dict_segments:\n",
    "            if dict_segments[city] == leader1:\n",
    "                dict_segments[city] = leader2\n"
   ]
  },
  {
   "cell_type": "markdown",
   "metadata": {},
   "source": [
    "Greedy TSP Solution Using Segments"
   ]
  },
  {
   "cell_type": "code",
   "execution_count": 380,
   "metadata": {},
   "outputs": [
    {
     "name": "stdout",
     "output_type": "stream",
     "text": [
      "Lakatoro -> Norsup (2.46 km)\n",
      "Norsup -> Luganville (67.09 km)\n",
      "Luganville -> Port Olry (52.02 km)\n",
      "Port Olry -> Longana (105.77 km)\n",
      "Longana -> Sola (165.49 km)\n",
      "Sola -> Isangel (652.96 km)\n",
      "Isangel -> Vila (223.00 km)\n",
      "Vila -> Lakatoro (206.74 km)\n",
      "result of Greedy TSP Solution Using Segments: Found a path in 28 steps, total length is: 1475.53 km\n"
     ]
    }
   ],
   "source": [
    "\n",
    "def TSP_segments (cities, debug=False):\n",
    "    # Initialize data structures using indices\n",
    "    segments = [{idx} for idx in cities.index]\n",
    "    dict_segments = {idx: idx for idx in cities.index}\n",
    "    degrees = {idx: 0 for idx in cities.index}\n",
    "    TSP = []\n",
    "    counter = len(cities.index)\n",
    "    steps = 0\n",
    "\n",
    "    # Calculate and sort all distances between city pairs\n",
    "    distances = []\n",
    "    for city1, city2 in combinations(cities.itertuples(index=True), 2):\n",
    "        distance = geopy.distance.geodesic((city1.lat, city1.lon), (city2.lat, city2.lon)).km\n",
    "        distances.append((city1.Index, city2.Index, distance))\n",
    "    distances.sort(key=lambda x: x[2])\n",
    "\n",
    "    # Build the TSP path\n",
    "    for edge in distances:\n",
    "        c1, c2, dist = edge\n",
    "        steps += 1\n",
    "        if counter == 1:\n",
    "            if degrees[c1] < 2 and degrees[c2] < 2:\n",
    "                TSP.append(edge)\n",
    "                break\n",
    "        if is_valid(c1, c2, degrees, dict_segments):\n",
    "            union_segments(c1, c2, dict_segments, degrees)\n",
    "            TSP.append(edge)\n",
    "            counter -= 1\n",
    "\n",
    "    # Traverse the path and print results\n",
    "    start_city = TSP[0][1]\n",
    "    if debug == True:\n",
    "        print(f\"{cities.loc[TSP[0][0], 'name']} -> {cities.loc[TSP[0][1], 'name']} ({TSP[0][2]:.2f} km)\")\n",
    "    total_cost = TSP[0][2]\n",
    "    TSP.remove(TSP[0])\n",
    "\n",
    "    while TSP:\n",
    "        for edge in TSP: #calculate the cost\n",
    "            c1, c2, dist = edge\n",
    "            if c1 == start_city:\n",
    "                total_cost += dist\n",
    "                if debug == True:\n",
    "                    print(f\"{cities.loc[c1, 'name']} -> {cities.loc[c2, 'name']} ({dist:.2f} km)\")\n",
    "                start_city = c2\n",
    "                TSP.remove(edge)\n",
    "                break\n",
    "            elif c2 == start_city:\n",
    "                total_cost += dist\n",
    "                if debug == True:\n",
    "                    print(f\"{cities.loc[c2, 'name']} -> {cities.loc[c1, 'name']} ({dist:.2f} km)\")\n",
    "                start_city = c1\n",
    "                TSP.remove(edge)\n",
    "                break\n",
    "\n",
    "    print(f\"result of Greedy TSP Solution Using Segments: Found a path in {steps} steps, total length is: {total_cost:.2f} km\")\n",
    "\n",
    "TSP_segments (vanuatu_cities, True)\n"
   ]
  },
  {
   "cell_type": "markdown",
   "metadata": {},
   "source": [
    "EA TSP- Helper Functions"
   ]
  },
  {
   "cell_type": "code",
   "execution_count": 432,
   "metadata": {},
   "outputs": [],
   "source": [
    "rng = np.random.default_rng()\n",
    "\n",
    "# Function to create an initial population randomly\n",
    "def create_population(population_size,index_list):\n",
    "    population = [rng.permutation(index_list) for i in range (population_size)]\n",
    "    return population\n",
    "\n",
    "\n",
    "# Function to calculate the total cost (distance) of a TSP route\n",
    "def tsp_cost(tsp,dist_matrix):\n",
    "    tot_cost = 0\n",
    "    for c1 in range (len(tsp)-1):\n",
    "        tot_cost += dist_matrix[tsp[c1], tsp[c1+1]]\n",
    "\n",
    "    tot_cost += dist_matrix[tsp[0], tsp[-1]]\n",
    "    return tot_cost\n",
    "            \n",
    "\n",
    "# choose the individual with the lowest cost\n",
    "def tournament_selection(population,tournament_size,dist_matrix):\n",
    "    select_parents = np.random.choice(len(population), tournament_size, replace=False)\n",
    "    tournament = [population[i] for i in select_parents]\n",
    "    best = sorted(tournament, key = lambda route: tsp_cost(route, dist_matrix))\n",
    "    return best[0], best[1]\n",
    "\n",
    "\n",
    "# Helper function to find the index of a specific gene within a parent\n",
    "def index_np (parent, gene):\n",
    "    return np.where(parent == gene)[0][0]\n",
    "\n",
    "\n",
    "# Inver-Over Crossover function\n",
    "def inver_over_xover(parent1, parent2):\n",
    "    parent3 = parent1.copy()\n",
    "    first_index = rng.integers(0, len(parent1)-1)\n",
    "    parent3 = np.concatenate((parent3[first_index:] , parent3[:first_index]))\n",
    "    first_index = 0\n",
    "    first_gene = parent3[first_index]  # Select the first gene of parent1\n",
    "    \n",
    "    # Find the position of `first_gene` in `parent2` and get the next gene in `parent2`\n",
    "    first_index_in_parent2 = index_np(parent2,first_gene)\n",
    "    second_index_in_parent2 = (first_index_in_parent2 + 1) % len(parent2)\n",
    "    second_gene = parent2[second_index_in_parent2]\n",
    "    \n",
    "    # Define the segment in parent1 to be reversed\n",
    "    start_segment = first_index + 1\n",
    "    end_segment = index_np(parent3,second_gene)\n",
    "        \n",
    "    # Assemble the offspring by concatenating the different parts    \n",
    "    segment = parent3[start_segment:end_segment]\n",
    "    reverse_segment = np.flip(segment)\n",
    "    offspring = np.concatenate((parent3[0:1], parent2[second_index_in_parent2:second_index_in_parent2+1], reverse_segment, parent3[end_segment+1:]))\n",
    "    \n",
    "    return offspring\n",
    "\n",
    "def inversion_mutation(route):\n",
    "    copied_route = route.copy()\n",
    "    idx1, idx2 = sorted(rng.choice(len(route), size=2, replace=False))\n",
    "    copied_route[idx1:idx2] = copied_route[idx1:idx2][::-1]\n",
    "    return copied_route\n",
    "\n",
    "\n",
    "# Scramble Mutation function\n",
    "def scramble_mutation(route, alleles_num):\n",
    "    copied_route = route.copy()\n",
    "    start_index = rng.integers(0, len(copied_route))\n",
    "    end_index = (start_index + alleles_num) % len(copied_route) \n",
    "\n",
    "    # Extract the sublist to be scrambled\n",
    "    if start_index < end_index:\n",
    "        sub_route = copied_route[start_index:end_index]\n",
    "    else: # Case where the sublist wraps around the end\n",
    "        sub_route = np.concatenate((copied_route[start_index:], copied_route[:end_index]))\n",
    "    permuted_sub_route = rng.permutation(sub_route)\n",
    "\n",
    "    # Place permuted sub_route back into copied_route in circular fashion\n",
    "    if start_index < end_index:\n",
    "        copied_route[start_index:end_index] = permuted_sub_route\n",
    "    else: \n",
    "        copied_route[start_index:] = permuted_sub_route[:len(copied_route) - start_index]\n",
    "        copied_route[:end_index] = permuted_sub_route[len(copied_route) - start_index:]\n",
    "    \n",
    "    return copied_route\n",
    "\n",
    "def add_rand(population_size, index_list):\n",
    "    num_new_individuals = int(0.1 * population_size)\n",
    "    return create_population(num_new_individuals, index_list)\n",
    "\n",
    "    \n"
   ]
  },
  {
   "cell_type": "markdown",
   "metadata": {},
   "source": [
    "EA TSP Algorithm Using Inver Over Crossover and Scramble Mutation"
   ]
  },
  {
   "cell_type": "code",
   "execution_count": 436,
   "metadata": {},
   "outputs": [
    {
     "name": "stdout",
     "output_type": "stream",
     "text": [
      "generation: 0 current best: 1678.8210597332738\n",
      "result of EA solution: Found a path of 10 generations, mutation probability is 0.5 ,\n",
      "total length is: 1396.31 km\n"
     ]
    }
   ],
   "source": [
    "def TSP_EA(cities, generations ,M_probability,population_size,offspring_size):\n",
    "    dist_matrix = distance_matrix(cities)\n",
    "    index_list = [i for i in range (len(cities.index))]\n",
    "    tournament_size = max(int(offspring_size * 0.1), 2)\n",
    "    alleles_num=5\n",
    "    elitism_rate=0.05\n",
    "\n",
    "    population = create_population(population_size, index_list)\n",
    "    #MODERN GA FLOW\n",
    "    for generation in range(generations):\n",
    "        new_population=[]\n",
    "        sorted_population = sorted(population, key=lambda route: tsp_cost(route, dist_matrix))                        \n",
    "        if generation % 1000 == 0 :\n",
    "            print(\"generation:\" , generation, \"current best:\",tsp_cost(sorted_population[0],dist_matrix))\n",
    "        # Determine the number of elites\n",
    "        num_elites = max(1, int(elitism_rate * population_size))\n",
    "        elites = sorted_population[:num_elites] #to reserve the best\n",
    "        new_population = elites.copy()\n",
    "        if generation%100 == 0:\n",
    "            new_population.extend(add_rand(int(population_size*0.05),index_list))\n",
    "    \n",
    "        for iter in range(offspring_size):\n",
    "            parent1, parent2 = tournament_selection(population, tournament_size,dist_matrix) #parents selection\n",
    "        #crossover\n",
    "            offspring1 = inver_over_xover(parent1, parent2)\n",
    "        #mutation\n",
    "            if np.random.random() < M_probability:\n",
    "                offspring1 = scramble_mutation(offspring1,alleles_num)\n",
    "            if np.random.random() < M_probability:\n",
    "                offspring1 = inversion_mutation(offspring1)\n",
    "\n",
    "            new_population.extend([offspring1])\n",
    "    \n",
    "        population = new_population\n",
    "   \n",
    "    best_route = min(new_population, key = lambda route: tsp_cost(route,dist_matrix)) #the best route\n",
    "    best_cost = tsp_cost(best_route,dist_matrix)\n",
    "    \n",
    "    print(f\"result of EA solution: Found a path of {generation + 1} generations, mutation probability is {M_probability} ,\\ntotal length is: {best_cost:.2f} km\")\n",
    "\n",
    "TSP_EA(cities = vanuatu_cities, generations = 10, M_probability=0.5,population_size=10, offspring_size = 5)\n"
   ]
  },
  {
   "cell_type": "markdown",
   "metadata": {},
   "source": [
    "ITALY"
   ]
  },
  {
   "cell_type": "code",
   "execution_count": 441,
   "metadata": {},
   "outputs": [
    {
     "name": "stderr",
     "output_type": "stream",
     "text": [
      "INFO:root:result of TSP Solution Using Nearest Neighbor: Found a path of 46 steps, total length 4436.03km\n"
     ]
    },
    {
     "name": "stdout",
     "output_type": "stream",
     "text": [
      "result of Greedy TSP Solution Using Segments: Found a path in 770 steps, total length is: 4730.05 km\n",
      "generation: 0 current best: 15385.48767068297\n",
      "generation: 1000 current best: 4291.083493264579\n",
      "generation: 2000 current best: 4291.083493264579\n",
      "generation: 3000 current best: 4291.083493264579\n",
      "generation: 4000 current best: 4291.083493264579\n",
      "generation: 5000 current best: 4291.083493264579\n",
      "generation: 6000 current best: 4291.083493264579\n",
      "generation: 7000 current best: 4291.083493264579\n",
      "generation: 8000 current best: 4291.083493264579\n",
      "generation: 9000 current best: 4291.083493264579\n",
      "result of EA solution: Found a path of 10000 generations, mutation probability is 0.3 ,\n",
      "total length is: 4291.08 km\n"
     ]
    }
   ],
   "source": [
    "Italy_cities = pd.read_csv('italy.csv', header=None, names=['name', 'lat', 'lon'])\n",
    "\n",
    "TSP_nearest_neighbor(Italy_cities)\n",
    "TSP_segments(Italy_cities)\n",
    "TSP_EA(Italy_cities, generations=10000, M_probability = 0.3, population_size=300, offspring_size = 100)\n",
    "\n"
   ]
  },
  {
   "cell_type": "code",
   "execution_count": 442,
   "metadata": {},
   "outputs": [
    {
     "name": "stderr",
     "output_type": "stream",
     "text": [
      "INFO:root:result of TSP Solution Using Nearest Neighbor: Found a path of 167 steps, total length 42334.16km\n"
     ]
    },
    {
     "name": "stdout",
     "output_type": "stream",
     "text": [
      "result of Greedy TSP Solution Using Segments: Found a path in 12890 steps, total length is: 39758.48 km\n",
      "generation: 0 current best: 290743.74677103997\n",
      "generation: 1000 current best: 40589.2020353521\n",
      "generation: 2000 current best: 35720.41645838816\n",
      "generation: 3000 current best: 35046.37986252997\n",
      "generation: 4000 current best: 34834.34412111945\n",
      "generation: 5000 current best: 34803.247571365835\n",
      "generation: 6000 current best: 34803.247571365835\n",
      "generation: 7000 current best: 34803.247571365835\n",
      "generation: 8000 current best: 34803.247571365835\n",
      "generation: 9000 current best: 34803.247571365835\n",
      "result of EA solution: Found a path of 10000 generations, mutation probability is 0.3 ,\n",
      "total length is: 34803.25 km\n"
     ]
    }
   ],
   "source": [
    "Russia_cities = pd.read_csv('russia.csv', header=None, names=['name', 'lat', 'lon'])\n",
    "\n",
    "TSP_nearest_neighbor(Russia_cities)\n",
    "TSP_segments(Russia_cities)\n",
    "TSP_EA(Russia_cities ,generations=10000, M_probability = 0.3, population_size=300, offspring_size = 100)\n",
    "\n"
   ]
  },
  {
   "cell_type": "code",
   "execution_count": null,
   "metadata": {},
   "outputs": [
    {
     "name": "stderr",
     "output_type": "stream",
     "text": [
      "INFO:root:result of TSP Solution Using Nearest Neighbor: Found a path of 326 steps, total length 48050.03km\n"
     ]
    },
    {
     "name": "stdout",
     "output_type": "stream",
     "text": [
      "result of Greedy TSP Solution Using Segments: Found a path in 52915 steps, total length is: 45845.92 km\n",
      "generation: 0 current best: 575140.9715772812\n",
      "generation: 1000 current best: 85492.94431914994\n",
      "generation: 2000 current best: 53978.143650848906\n",
      "generation: 3000 current best: 48423.30576466782\n",
      "generation: 4000 current best: 44144.6817039955\n"
     ]
    }
   ],
   "source": [
    "US_cities = pd.read_csv('us.csv', header=None, names=['name', 'lat', 'lon'])\n",
    "\n",
    "TSP_nearest_neighbor(US_cities)\n",
    "TSP_segments(US_cities)\n",
    "TSP_EA(US_cities, generations=10000, M_probability = 0.3, population_size=300, offspring_size = 100)"
   ]
  },
  {
   "cell_type": "code",
   "execution_count": null,
   "metadata": {},
   "outputs": [],
   "source": [
    "China_cities = pd.read_csv('china.csv', header=None, names=['name', 'lat', 'lon'])\n",
    "\n",
    "TSP_nearest_neighbor(China_cities)\n",
    "TSP_segments(China_cities)\n",
    "TSP_EA(China_cities,generations=10000, M_probability = 0.3, population_size=300, offspring_size = 100)\n",
    "\n"
   ]
  }
 ],
 "metadata": {
  "kernelspec": {
   "display_name": "Python 3",
   "language": "python",
   "name": "python3"
  },
  "language_info": {
   "codemirror_mode": {
    "name": "ipython",
    "version": 3
   },
   "file_extension": ".py",
   "mimetype": "text/x-python",
   "name": "python",
   "nbconvert_exporter": "python",
   "pygments_lexer": "ipython3",
   "version": "3.12.0"
  }
 },
 "nbformat": 4,
 "nbformat_minor": 2
}
